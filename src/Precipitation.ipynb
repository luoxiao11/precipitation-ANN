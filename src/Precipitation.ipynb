{
 "cells": [
  {
   "cell_type": "code",
   "execution_count": null,
   "id": "b1905510-94fc-4fdb-9ae1-b94de649ca19",
   "metadata": {},
   "outputs": [],
   "source": [
    "##Install Packages"
   ]
  },
  {
   "cell_type": "code",
   "execution_count": null,
   "id": "yFrTx7GSQPt8",
   "metadata": {
    "id": "yFrTx7GSQPt8",
    "tags": []
   },
   "outputs": [
    {
     "name": "stdout",
     "output_type": "stream",
     "text": [
      "Collecting global_land_mask\n",
      "  Downloading global_land_mask-1.0.0-py3-none-any.whl.metadata (5.2 kB)\n",
      "Downloading global_land_mask-1.0.0-py3-none-any.whl (1.8 MB)\n",
      "\u001b[2K   \u001b[90m━━━━━━━━━━━━━━━━━━━━━━━━━━━━━━━━━━━━━━━━\u001b[0m \u001b[32m1.8/1.8 MB\u001b[0m \u001b[31m2.2 MB/s\u001b[0m eta \u001b[36m0:00:00\u001b[0m00:01\u001b[0m00:01\u001b[0m\n",
      "\u001b[?25hInstalling collected packages: global_land_mask\n",
      "Successfully installed global_land_mask-1.0.0\n",
      "Collecting tensorflow\n",
      "  Downloading tensorflow-2.17.0-cp312-cp312-manylinux_2_17_x86_64.manylinux2014_x86_64.whl.metadata (4.2 kB)\n",
      "Collecting absl-py>=1.0.0 (from tensorflow)\n",
      "  Downloading absl_py-2.1.0-py3-none-any.whl.metadata (2.3 kB)\n",
      "Collecting astunparse>=1.6.0 (from tensorflow)\n",
      "  Downloading astunparse-1.6.3-py2.py3-none-any.whl.metadata (4.4 kB)\n",
      "Collecting flatbuffers>=24.3.25 (from tensorflow)\n",
      "  Downloading flatbuffers-24.3.25-py2.py3-none-any.whl.metadata (850 bytes)\n",
      "Collecting gast!=0.5.0,!=0.5.1,!=0.5.2,>=0.2.1 (from tensorflow)\n",
      "  Downloading gast-0.6.0-py3-none-any.whl.metadata (1.3 kB)\n",
      "Collecting google-pasta>=0.1.1 (from tensorflow)\n",
      "  Downloading google_pasta-0.2.0-py3-none-any.whl.metadata (814 bytes)\n",
      "Collecting h5py>=3.10.0 (from tensorflow)\n",
      "  Downloading h5py-3.11.0-cp312-cp312-manylinux_2_17_x86_64.manylinux2014_x86_64.whl.metadata (2.5 kB)\n",
      "Collecting libclang>=13.0.0 (from tensorflow)\n",
      "  Downloading libclang-18.1.1-py2.py3-none-manylinux2010_x86_64.whl.metadata (5.2 kB)\n",
      "Collecting ml-dtypes<0.5.0,>=0.3.1 (from tensorflow)\n",
      "  Downloading ml_dtypes-0.4.0-cp312-cp312-manylinux_2_17_x86_64.manylinux2014_x86_64.whl.metadata (20 kB)\n",
      "Collecting opt-einsum>=2.3.2 (from tensorflow)\n",
      "  Downloading opt_einsum-3.3.0-py3-none-any.whl.metadata (6.5 kB)\n",
      "Requirement already satisfied: packaging in /home/Xiao.Luo/miniconda3/envs/SFS/lib/python3.12/site-packages (from tensorflow) (23.2)\n",
      "Collecting protobuf!=4.21.0,!=4.21.1,!=4.21.2,!=4.21.3,!=4.21.4,!=4.21.5,<5.0.0dev,>=3.20.3 (from tensorflow)\n",
      "  Downloading protobuf-4.25.4-cp37-abi3-manylinux2014_x86_64.whl.metadata (541 bytes)\n",
      "Requirement already satisfied: requests<3,>=2.21.0 in /home/Xiao.Luo/miniconda3/envs/SFS/lib/python3.12/site-packages (from tensorflow) (2.31.0)\n",
      "Requirement already satisfied: setuptools in /home/Xiao.Luo/miniconda3/envs/SFS/lib/python3.12/site-packages (from tensorflow) (68.2.2)\n",
      "Requirement already satisfied: six>=1.12.0 in /home/Xiao.Luo/miniconda3/envs/SFS/lib/python3.12/site-packages (from tensorflow) (1.16.0)\n",
      "Collecting termcolor>=1.1.0 (from tensorflow)\n",
      "  Downloading termcolor-2.4.0-py3-none-any.whl.metadata (6.1 kB)\n",
      "Requirement already satisfied: typing-extensions>=3.6.6 in /home/Xiao.Luo/miniconda3/envs/SFS/lib/python3.12/site-packages (from tensorflow) (4.11.0)\n",
      "Collecting wrapt>=1.11.0 (from tensorflow)\n",
      "  Downloading wrapt-1.16.0-cp312-cp312-manylinux_2_5_x86_64.manylinux1_x86_64.manylinux_2_17_x86_64.manylinux2014_x86_64.whl.metadata (6.6 kB)\n",
      "Collecting grpcio<2.0,>=1.24.3 (from tensorflow)\n",
      "  Downloading grpcio-1.65.4-cp312-cp312-manylinux_2_17_x86_64.manylinux2014_x86_64.whl.metadata (3.3 kB)\n",
      "Collecting tensorboard<2.18,>=2.17 (from tensorflow)\n",
      "  Downloading tensorboard-2.17.0-py3-none-any.whl.metadata (1.6 kB)\n",
      "Collecting keras>=3.2.0 (from tensorflow)\n",
      "  Downloading keras-3.5.0-py3-none-any.whl.metadata (5.8 kB)\n",
      "Requirement already satisfied: numpy<2.0.0,>=1.26.0 in /home/Xiao.Luo/miniconda3/envs/SFS/lib/python3.12/site-packages (from tensorflow) (1.26.4)\n",
      "Requirement already satisfied: wheel<1.0,>=0.23.0 in /home/Xiao.Luo/miniconda3/envs/SFS/lib/python3.12/site-packages (from astunparse>=1.6.0->tensorflow) (0.41.2)\n",
      "Collecting rich (from keras>=3.2.0->tensorflow)\n",
      "  Downloading rich-13.7.1-py3-none-any.whl.metadata (18 kB)\n",
      "Collecting namex (from keras>=3.2.0->tensorflow)\n",
      "  Downloading namex-0.0.8-py3-none-any.whl.metadata (246 bytes)\n",
      "Collecting optree (from keras>=3.2.0->tensorflow)\n",
      "  Downloading optree-0.12.1-cp312-cp312-manylinux_2_17_x86_64.manylinux2014_x86_64.whl.metadata (47 kB)\n",
      "\u001b[2K     \u001b[90m━━━━━━━━━━━━━━━━━━━━━━━━━━━━━━━━━━━━━━━\u001b[0m \u001b[32m47.8/47.8 kB\u001b[0m \u001b[31m567.0 kB/s\u001b[0m eta \u001b[36m0:00:00\u001b[0ma \u001b[36m0:00:01\u001b[0m\n",
      "\u001b[?25hRequirement already satisfied: charset-normalizer<4,>=2 in /home/Xiao.Luo/miniconda3/envs/SFS/lib/python3.12/site-packages (from requests<3,>=2.21.0->tensorflow) (3.3.2)\n",
      "Requirement already satisfied: idna<4,>=2.5 in /home/Xiao.Luo/miniconda3/envs/SFS/lib/python3.12/site-packages (from requests<3,>=2.21.0->tensorflow) (3.7)\n",
      "Requirement already satisfied: urllib3<3,>=1.21.1 in /home/Xiao.Luo/miniconda3/envs/SFS/lib/python3.12/site-packages (from requests<3,>=2.21.0->tensorflow) (2.2.1)\n",
      "Requirement already satisfied: certifi>=2017.4.17 in /home/Xiao.Luo/miniconda3/envs/SFS/lib/python3.12/site-packages (from requests<3,>=2.21.0->tensorflow) (2024.2.2)\n",
      "Collecting markdown>=2.6.8 (from tensorboard<2.18,>=2.17->tensorflow)\n",
      "  Downloading Markdown-3.6-py3-none-any.whl.metadata (7.0 kB)\n",
      "Collecting tensorboard-data-server<0.8.0,>=0.7.0 (from tensorboard<2.18,>=2.17->tensorflow)\n",
      "  Downloading tensorboard_data_server-0.7.2-py3-none-any.whl.metadata (1.1 kB)\n",
      "Collecting werkzeug>=1.0.1 (from tensorboard<2.18,>=2.17->tensorflow)\n",
      "  Downloading werkzeug-3.0.3-py3-none-any.whl.metadata (3.7 kB)\n",
      "Requirement already satisfied: MarkupSafe>=2.1.1 in /home/Xiao.Luo/miniconda3/envs/SFS/lib/python3.12/site-packages (from werkzeug>=1.0.1->tensorboard<2.18,>=2.17->tensorflow) (2.1.3)\n",
      "Collecting markdown-it-py>=2.2.0 (from rich->keras>=3.2.0->tensorflow)\n",
      "  Downloading markdown_it_py-3.0.0-py3-none-any.whl.metadata (6.9 kB)\n",
      "Requirement already satisfied: pygments<3.0.0,>=2.13.0 in /home/Xiao.Luo/miniconda3/envs/SFS/lib/python3.12/site-packages (from rich->keras>=3.2.0->tensorflow) (2.17.2)\n",
      "Collecting mdurl~=0.1 (from markdown-it-py>=2.2.0->rich->keras>=3.2.0->tensorflow)\n",
      "  Downloading mdurl-0.1.2-py3-none-any.whl.metadata (1.6 kB)\n",
      "Downloading tensorflow-2.17.0-cp312-cp312-manylinux_2_17_x86_64.manylinux2014_x86_64.whl (601.4 MB)\n",
      "\u001b[2K   \u001b[91m━\u001b[0m\u001b[90m╺\u001b[0m\u001b[90m━━━━━━━━━━━━━━━━━━━━━━━━━━━━━━━━━━━━━━\u001b[0m \u001b[32m16.2/601.4 MB\u001b[0m \u001b[31m879.9 kB/s\u001b[0m eta \u001b[36m0:11:06\u001b[0m"
     ]
    }
   ],
   "source": [
    "import subprocess, sys\n",
    "packages = [\"netCDF4\", \"global_land_mask\", \"matplotlib\",\n",
    "            \"numpy\", \"tensorflow\"]\n",
    "for package in packages:\n",
    "    try:\n",
    "        __import__(package)\n",
    "    except ImportError:\n",
    "        subprocess.check_call([sys.executable, '-m', 'pip', 'install', package])"
   ]
  },
  {
   "cell_type": "markdown",
   "id": "9A1KpT1vQhO2",
   "metadata": {
    "id": "9A1KpT1vQhO2"
   },
   "source": [
    "##load the modules in the packages (e.g., `Dataset`) or load the packages and assign a shorter object name for the packages (e.g., `import numpy as np`) for a cleaner use throughout the notebook."
   ]
  },
  {
   "cell_type": "code",
   "execution_count": 2,
   "id": "e5d3acb7",
   "metadata": {
    "id": "e5d3acb7",
    "tags": []
   },
   "outputs": [],
   "source": [
    "from netCDF4 import Dataset\n",
    "import numpy as np\n",
    "from global_land_mask import globe\n",
    "import tensorflow as tf\n",
    "import tensorflow.keras as keras\n",
    "import tensorflow.keras.layers as layers\n",
    "import matplotlib.pyplot as plt\n",
    "plt.rcParams['pcolor.shading'] = 'auto'"
   ]
  },
  {
   "cell_type": "code",
   "execution_count": null,
   "id": "edcd29c7-a953-4565-bf5c-b20348a64770",
   "metadata": {},
   "outputs": [],
   "source": [
    "##Retrieve Files Online"
   ]
  },
  {
   "cell_type": "code",
   "execution_count": 4,
   "id": "2cd15866",
   "metadata": {
    "id": "2cd15866",
    "tags": []
   },
   "outputs": [],
   "source": [
    "import boto3\n",
    "\n",
    "# Initialize a session using Boto3\n",
    "session = boto3.Session()\n",
    "s3 = session.client('s3')\n",
    "\n",
    "# Specify bucket and key prefix to the Jose TC PRIMED folder on S3\n",
    "BUCKET_NAME = \"nccf-ssbx-ingest-trust-us-east-1-853468063363\"\n",
    "TRAIN_KEY_PREFIX = \"NCAI/TCPRIMED/2017/AL/12/\"\n",
    "\n",
    "# Specify the names of the files we will use from the Jose TC PRIMED folder on S3\n",
    "TRAIN_FILE_NAMES = [\n",
    "    \"TCPRIMED_v01r00-final_AL122017_GMI_GPM_020015_20170906043506.nc\",\n",
    "    \"TCPRIMED_v01r00-final_AL122017_GMI_GPM_020053_20170908155108.nc\",\n",
    "    \"TCPRIMED_v01r00-final_AL122017_GMI_GPM_020062_20170909050809.nc\",\n",
    "    \"TCPRIMED_v01r00-final_AL122017_GMI_GPM_020084_20170910153710.nc\",\n",
    "    \"TCPRIMED_v01r00-final_AL122017_GMI_GPM_020093_20170911045711.nc\",\n",
    "    \"TCPRIMED_v01r00-final_AL122017_GMI_GPM_020124_20170913044913.nc\",\n",
    "    \"TCPRIMED_v01r00-final_AL122017_GMI_GPM_020130_20170913143513.nc\",\n",
    "    \"TCPRIMED_v01r00-final_AL122017_GMI_GPM_020139_20170914035614.nc\",\n",
    "    \"TCPRIMED_v01r00-final_AL122017_GMI_GPM_020170_20170916034716.nc\"\n",
    "                   ]\n",
    "\n",
    "# Declare TRAIN_DS as a dictionary\n",
    "TRAIN_DS = {}\n",
    "\n",
    "# Loop through each train file name\n",
    "for train_file_name in TRAIN_FILE_NAMES:\n",
    "\n",
    "    # Join bucket, key prefix and train_file_name to produce a complete link\n",
    "    # Retrieve the contents of the TC PRIMED file from the complete link\n",
    "    response = s3.get_object(Bucket=BUCKET_NAME, Key=TRAIN_KEY_PREFIX + train_file_name)\n",
    "\n",
    "    # Load the contents of the TC PRIMED file in an \"instance\" type into the\n",
    "    # dictionary TRAIN_DS with the file name as the dictionary key\n",
    "    TRAIN_DS[train_file_name] = Dataset(train_file_name, memory=response['Body'].read())"
   ]
  },
  {
   "cell_type": "code",
   "execution_count": 5,
   "id": "35f015fd",
   "metadata": {
    "id": "35f015fd",
    "tags": []
   },
   "outputs": [],
   "source": [
    "# Specify key prefix to the Maria TC PRIMED folder on S3\n",
    "VAL_KEY_PREFIX = \"NCAI/TCPRIMED/2017/AL/15/\"\n",
    "\n",
    "# Specify the names of the files we will use from the Maria TC PRIMED folder on S3\n",
    "VAL_FILE_NAMES = [\n",
    "    \"TCPRIMED_v01r00-final_AL152017_GMI_GPM_020200_20170918020118.nc\",\n",
    "    \"TCPRIMED_v01r00-final_AL152017_GMI_GPM_020253_20170921122521.nc\",\n",
    "    \"TCPRIMED_v01r00-final_AL152017_GMI_GPM_020284_20170923121423.nc\",\n",
    "    \"TCPRIMED_v01r00-final_AL152017_GMI_GPM_020345_20170927101927.nc\",\n",
    "                 ]\n",
    "\n",
    "# Declare VAL_DS as a dictionary\n",
    "VAL_DS = {}\n",
    "\n",
    "# Loop through each val file name\n",
    "for val_file_name in VAL_FILE_NAMES:\n",
    "\n",
    "    # Join bucket, key prefix and val_file_name to produce a complete link\n",
    "    # Retrieve the contents of the TC PRIMED file from the complete link\n",
    "    response = s3.get_object(Bucket=BUCKET_NAME, Key=VAL_KEY_PREFIX + val_file_name)\n",
    "\n",
    "    # Load the contents of the TC PRIMED file in an \"instance\" type into the\n",
    "    # dictionary VAL_DS with the file name as the dictionary key\n",
    "    VAL_DS[val_file_name] = Dataset(val_file_name, memory=response['Body'].read())"
   ]
  },
  {
   "cell_type": "code",
   "execution_count": 6,
   "id": "86270520",
   "metadata": {
    "id": "86270520",
    "tags": []
   },
   "outputs": [],
   "source": [
    "# Specify key prefix to the Irma TC PRIMED folder on S3\n",
    "TEST_KEY_PREFIX = \"NCAI/TCPRIMED/2017/AL/11/\"\n",
    "\n",
    "# Specify the names of the files we will use from the Irma TC PRIMED folder on S3\n",
    "TEST_FILE_NAMES = [\n",
    "    \"TCPRIMED_v01r00-final_AL112017_GMI_GPM_019929_20170831163031.nc\",\n",
    "    \"TCPRIMED_v01r00-final_AL112017_GMI_GPM_019938_20170901054701.nc\",\n",
    "    \"TCPRIMED_v01r00-final_AL112017_GMI_GPM_020007_20170905165205.nc\",\n",
    "    \"TCPRIMED_v01r00-final_AL112017_GMI_GPM_020038_20170907164107.nc\",\n",
    "                  ]\n",
    "\n",
    "# Declare TEST_DS as a dictionary\n",
    "TEST_DS = {}\n",
    "\n",
    "# Loop through each test file name\n",
    "for test_file_name in TEST_FILE_NAMES:\n",
    "\n",
    "    # Join bucket, key prefix and test_file_name to produce a complete link\n",
    "    # Retrieve the contents of the TC PRIMED file from the complete link\n",
    "    response = s3.get_object(Bucket=BUCKET_NAME, Key=TEST_KEY_PREFIX + test_file_name)\n",
    "\n",
    "    # Load the contents of the TC PRIMED file in an \"instance\" type into the\n",
    "    # dictionary VAL_DS with the file name as the dictionary key\n",
    "    TEST_DS[test_file_name] = Dataset(test_file_name, memory=response['Body'].read())"
   ]
  },
  {
   "cell_type": "code",
   "execution_count": 7,
   "id": "9aebed67",
   "metadata": {
    "id": "9aebed67",
    "tags": []
   },
   "outputs": [],
   "source": [
    "###Data Pre-Processing: Generating Input Features and Target Labels\n",
    "def generate_features_and_labels(FILE_DICT, FILE_NAMES, frequencies):\n",
    "    \"\"\"\n",
    "    Generate input features and target labels from a set of TC PRIMED GPM\n",
    "    overpass files\n",
    "\n",
    "    Parameters\n",
    "    ----------\n",
    "    FILE_DICT : dictionary\n",
    "        dictionary containing the NetCDF instances for each file in FILE_NAMES\n",
    "    FILE_NAMES: array-like\n",
    "        list of TC PRIMED GPM file names from which we want to generate the input\n",
    "        features and target labels\n",
    "    frequencies : array-like\n",
    "        list of GPM observation frequencies we want to use as the input\n",
    "        features\n",
    "\n",
    "    Returns\n",
    "    -------\n",
    "    features : array-like\n",
    "        array of passive microwave brightness temperatures at each pixel as\n",
    "        our input features\n",
    "    labels : array-like\n",
    "        array of GPROF surface precipitation rate at each pixel as our target\n",
    "        labels\n",
    "    \"\"\"\n",
    "    # Value to replace masked data and to ignore when generating input\n",
    "    # features and target labels\n",
    "    _FillValue = -999.0\n",
    "\n",
    "    # Since we don't usually know the size of our sample, we will generate an\n",
    "    # empty array and continuously append values\n",
    "\n",
    "    # Generate a dictionary of emtpy array to store brightness temperature\n",
    "    # values for each observing frequency.\n",
    "    feature_lists = {}\n",
    "    for frequency in frequencies:\n",
    "        feature_lists[frequency] = np.array([])\n",
    "\n",
    "    # Generate empty array to store GPROF surface precipitation rate\n",
    "    labels = np.array([])\n",
    "\n",
    "    # Loop through each TC PRIMED GPM file\n",
    "    for FILE_NAME in FILE_NAMES:\n",
    "\n",
    "        # Load the latitude and longitude values of the observation pixels\n",
    "        latitude = FILE_DICT[FILE_NAME][\"passive_microwave/S1/latitude\"][:]\n",
    "        longitude = FILE_DICT[FILE_NAME][\"passive_microwave/S1/longitude\"][:]\n",
    "\n",
    "        # The global_land_mask package uses longitude values in the range\n",
    "        # [-180, 180) to determine if a point is over the ocean. We will\n",
    "        # have to convert the default longitude values in TC PRIMED with a\n",
    "        # longitude range of [0, 360) to the longitude range of [-180,180)\n",
    "        longitude[longitude >= 180] -= 360\n",
    "\n",
    "        # Load the surface preciptitation rate from GPROF\n",
    "        # Replace the masked value with the specified _FillValue\n",
    "        surfaceprecip = FILE_DICT[FILE_NAME][\"GPROF/S1/surfacePrecipitation\"][:].filled(_FillValue)\n",
    "\n",
    "        # Using the latitude and longitude values of the pixels, find the\n",
    "        # pixels that are over the ocean. Pixels that are over the ocean will\n",
    "        # have a value of \"True\"\n",
    "        ocean_pixels = globe.is_ocean(latitude, longitude)\n",
    "\n",
    "        # Find the indices of the pixels that are over the ocean\n",
    "        select_idx = np.argwhere(ocean_pixels == True)\n",
    "\n",
    "        # Find the indices of the GPROF surface precipitation rate with a valid\n",
    "        # value that is not the _FillValue. Append the indices to the indices of\n",
    "        # pixels over the ocean\n",
    "        select_idx = np.append(select_idx, np.argwhere(surfaceprecip != _FillValue), axis=0)\n",
    "\n",
    "        # Find all unique indices\n",
    "        # Select the unique indices only if there are more than one in the\n",
    "        # original array (indicating an overlap between the indices for pixels\n",
    "        # over the ocean and GPROF pixels that are not _FillValue)\n",
    "        unique_idx, count_idx = np.unique(select_idx, axis=0, return_counts=True)\n",
    "        select_idx = unique_idx[count_idx > 1]\n",
    "\n",
    "        # Initialize dictionary to store brightness temperature fields\n",
    "        TB = {}\n",
    "\n",
    "        # Loop through each observation frequency we want to use as our\n",
    "        # input feature\n",
    "        for frequency in frequencies:\n",
    "\n",
    "            # Load the brightness temperature field\n",
    "            # Replace the masked value with the specified _FillValue\n",
    "            TB[frequency] = FILE_DICT[FILE_NAME][\"passive_microwave/S1/TB_\" + frequency][:].filled(_FillValue)\n",
    "\n",
    "            # Append indices of brightness temperature values that are not\n",
    "            # _FillValue to the indices we have already selected above\n",
    "            select_idx = np.append(select_idx, np.argwhere(TB[frequency] != _FillValue), axis=0)\n",
    "\n",
    "            # Repeat the steps above\n",
    "            # Iteratively select indices for pixels that are over the ocean,\n",
    "            # have GPROF pixels that are not _FillValue, have brightness\n",
    "            # temperature pixels that are not _FillValue, etc.\n",
    "            unique_idx, count_idx = np.unique(select_idx, axis=0, return_counts=True)\n",
    "            select_idx = unique_idx[count_idx > 1]\n",
    "\n",
    "        # Loop through each index we have selected\n",
    "        for idx in select_idx:\n",
    "\n",
    "            # Append the value of GPROF surface precipitation rate into our\n",
    "            # target label array\n",
    "            labels = np.append(labels, surfaceprecip[idx[0],idx[1]])\n",
    "\n",
    "            # Loop through each observation frequency\n",
    "            for frequency in frequencies:\n",
    "\n",
    "                # Append the value of the brightness temperature into our\n",
    "                # input feature array\n",
    "                feature_lists[frequency] = np.append(feature_lists[frequency], TB[frequency][idx[0],idx[1]])\n",
    "\n",
    "    # Now, convert dictionary of input feature arrays into a 2-D array\n",
    "    # of input features\n",
    "    for frequency in frequencies:\n",
    "\n",
    "        if frequency == frequencies[0]:\n",
    "\n",
    "            features = feature_lists[frequency]\n",
    "\n",
    "        else:\n",
    "\n",
    "            features = np.vstack((features,feature_lists[frequency]))\n",
    "\n",
    "    return np.transpose(features), labels"
   ]
  },
  {
   "cell_type": "code",
   "execution_count": null,
   "id": "abaf9e67-e4c2-41c5-8d4e-25d6f8c6d643",
   "metadata": {
    "id": "5ab8e8e9"
   },
   "outputs": [],
   "source": [
    "## Data Pre-Processing: Feature Selection\n",
    "\n",
    "NASA briefly describes how the [different GMI observation frequencies](https://gpm.nasa.gov/missions/GPM/GMI) relate to the different types of atmospheric processes. The following list shows the GMI observation frequencies we can use in this notebook:\n",
    "- 10.65V\n",
    "- 10.65H\n",
    "- 18.7V\n",
    "- 18.7H\n",
    "- 23.8V\n",
    "- 36.64V\n",
    "- 36.64H\n",
    "- 89.0V\n",
    "- 89.0H"
   ]
  },
  {
   "cell_type": "code",
   "execution_count": 24,
   "id": "535da41c",
   "metadata": {
    "id": "535da41c",
    "tags": []
   },
   "outputs": [],
   "source": [
    "frequencies = [\"10.65V\", \"10.65H\",\"36.64V\", \"36.64H\", \"89.0V\", \"89.0H\"]"
   ]
  },
  {
   "cell_type": "markdown",
   "id": "f9192a19-6bb8-4dea-bb0a-c46af6411e7c",
   "metadata": {
    "id": "121302f3"
   },
   "source": [
    "Generate input features and target labels for our trainining, validation, and input sets."
   ]
  },
  {
   "cell_type": "code",
   "execution_count": 25,
   "id": "f22d160d",
   "metadata": {
    "id": "f22d160d",
    "tags": []
   },
   "outputs": [],
   "source": [
    "train_features, train_labels = generate_features_and_labels(TRAIN_DS, TRAIN_FILE_NAMES, frequencies)"
   ]
  },
  {
   "cell_type": "code",
   "execution_count": 26,
   "id": "db1575da",
   "metadata": {
    "id": "db1575da",
    "tags": []
   },
   "outputs": [],
   "source": [
    "val_features, val_labels = generate_features_and_labels(VAL_DS, VAL_FILE_NAMES, frequencies)"
   ]
  },
  {
   "cell_type": "code",
   "execution_count": 27,
   "id": "cdd7c4d0",
   "metadata": {
    "id": "cdd7c4d0",
    "tags": []
   },
   "outputs": [],
   "source": [
    "test_features, test_labels = generate_features_and_labels(TEST_DS, TEST_FILE_NAMES, frequencies)"
   ]
  },
  {
   "cell_type": "code",
   "execution_count": 28,
   "id": "d490fc51-d791-42a5-a177-7ca694e7550a",
   "metadata": {
    "tags": []
   },
   "outputs": [
    {
     "name": "stdout",
     "output_type": "stream",
     "text": [
      "[[264.79000854 251.58999634 267.01998901 249.72000122 283.17999268\n",
      "  277.91000366]\n",
      " [259.45001221 241.57000732 261.79000854 239.32000732 282.8999939\n",
      "  276.17999268]\n",
      " [253.47000122 226.71000671 263.60998535 242.44000244 283.63000488\n",
      "  279.54000854]\n",
      " ...\n",
      " [172.53999329  94.40000153 225.28999329 170.44999695 275.35998535\n",
      "  258.70999146]\n",
      " [173.61000061  94.62000275 223.21000671 167.07000732 274.6000061\n",
      "  256.70999146]\n",
      " [173.33999634  93.86000061 223.3999939  166.25       274.61999512\n",
      "  255.44000244]]\n",
      "[0.08 0.07 0.07 ... 0.01 0.01 0.01]\n"
     ]
    }
   ],
   "source": [
    "print(val_features)\n",
    "print(val_labels)"
   ]
  },
  {
   "cell_type": "markdown",
   "id": "bf397788",
   "metadata": {
    "id": "bf397788"
   },
   "source": [
    "## About the Machine Learning Model: The Artificial Neural Network\n",
    "Here, we provide a basic description of the [artificial neural network](https://www.ibm.com/topics/neural-networks). In *very* simplified terms, the artificial neural network is similar to linear regression but with additional non-linear steps. Let's briefly take a look at the linear regression as an analogy. A linear regression model takes the form of:\n",
    "$$y = mx + b$$\n",
    "Where $y$ is your predicted value, $x$ is your input value, $m$ is the weight, and $b$ is the bias. Now, let's say you have an artificial neural network model with two hidden layers. In the first hidden layer, the model takes the input values ($x$) and generates multiple subsets of linear regression models that each produce a predicted value ($y$). The number of linear regression models depends on the number of nodes in the first hidden layer, which is specified by the user. At this point, the model adds non-linearity by applying an activation function to the predicted values from the first hidden layer. This activation function is also specified by the user.\n",
    "\n",
    "After the activation function is applied to the predicted values from the first hidden layer, the predicted values become the input values for the next hidden layer, and the process repeats. In the final layer, no activation function is applied and the model linearly regresses the predicted values from the last hidden layer to the target label. During training, the artificial neural network finds the weight ($m$) and bias ($b$) values for each subset of linear regression models by minimizing a loss function (e.g., mean squared error).\n",
    "\n",
    "From the basic description of the artificial neural network model above, you have a few basic [model hyperparameters](https://www.youtube.com/watch?v=h291CuASDno) to choose:\n",
    "- the number of hidden layers\n",
    "- the number of nodes in each hidden layer\n",
    "- the activation function\n",
    "- the loss function\n",
    "\n",
    "In addition, there are a few other hyperparameters that we did not discuss, but still need to be selected:\n",
    "- the optimizer, which is a function that determines how the weights and biases are modified\n",
    "- the batch size, which tells the model how many samples from the full training set the model should train on before updating the weights and biases\n",
    "- the number of epochs, which tells the model how many times to train the model using the full training set"
   ]
  },
  {
   "cell_type": "code",
   "execution_count": null,
   "id": "a4a1c189-20e0-48ec-9652-a5b2e9412295",
   "metadata": {
    "id": "obi5T1LxOlCH"
   },
   "outputs": [],
   "source": [
    "## Data Pre-Processing:Scaling the Input Data"
   ]
  },
  {
   "cell_type": "code",
   "execution_count": 29,
   "id": "FG1rFP_sdLiR",
   "metadata": {
    "id": "FG1rFP_sdLiR",
    "tags": []
   },
   "outputs": [],
   "source": [
    "def obtain_feature_min_max(frequencies, train_features, val_features, test_features):\n",
    "    \"\"\"\n",
    "    Obtain min and max values of input features from the training, validation,\n",
    "    and testing sets\n",
    "\n",
    "    Parameters\n",
    "    ----------\n",
    "    frequencies : array-like\n",
    "        list of GPM observation frequencies we want to use as the input\n",
    "        features\n",
    "    train_features : array-like\n",
    "        2-D array of input features from the training set\n",
    "    val_features : array-like\n",
    "        2-D array of input features from the validation set\n",
    "    test_features : array-like\n",
    "        2-D array of input features from the testing set\n",
    "\n",
    "    Returns\n",
    "    -------\n",
    "    feature_min : dict\n",
    "        dictionary containing the minimum value of each observation frequency\n",
    "        in the input features\n",
    "    feature_max : dict\n",
    "        dictionary containing the maximum value of each observation frequency\n",
    "        in the input features\n",
    "    \"\"\"\n",
    "\n",
    "    feature_min = {}\n",
    "    feature_max = {}\n",
    "\n",
    "    for freq_idx, frequency in enumerate(frequencies):\n",
    "\n",
    "        all_features = np.hstack((train_features[:, freq_idx],\n",
    "                                  val_features[:, freq_idx],\n",
    "                                  test_features[:, freq_idx]))\n",
    "\n",
    "        feature_min[frequency] = np.min(all_features)\n",
    "        feature_max[frequency] = np.max(all_features)\n",
    "\n",
    "    return feature_min, feature_max"
   ]
  },
  {
   "cell_type": "code",
   "execution_count": null,
   "id": "3470b34f-c251-4eac-be91-00ae5537e00f",
   "metadata": {
    "id": "-c1cfNlekB6h"
   },
   "outputs": [],
   "source": [
    "##the minimum and maximum values of each of our input features using the function we have generated. "
   ]
  },
  {
   "cell_type": "code",
   "execution_count": 30,
   "id": "FUKOrolEkL_T",
   "metadata": {
    "colab": {
     "base_uri": "https://localhost:8080/"
    },
    "executionInfo": {
     "elapsed": 141,
     "status": "ok",
     "timestamp": 1686607951161,
     "user": {
      "displayName": "Naufal Razin",
      "userId": "00945304052336708650"
     },
     "user_tz": 360
    },
    "id": "FUKOrolEkL_T",
    "outputId": "7e2aa9c8-44f3-432d-af99-b13d2dd7eff5",
    "tags": []
   },
   "outputs": [
    {
     "name": "stdout",
     "output_type": "stream",
     "text": [
      "Observation frequency:  10.65V\n",
      "Minimum value:  162.7899932861328\n",
      "Maximum value:  274.2200012207031\n",
      " \n",
      "Observation frequency:  10.65H\n",
      "Minimum value:  85.19000244140625\n",
      "Maximum value:  268.7200012207031\n",
      " \n",
      "Observation frequency:  36.64V\n",
      "Minimum value:  164.36000061035156\n",
      "Maximum value:  282.2300109863281\n",
      " \n",
      "Observation frequency:  36.64H\n",
      "Minimum value:  131.0800018310547\n",
      "Maximum value:  280.0400085449219\n",
      " \n",
      "Observation frequency:  89.0V\n",
      "Minimum value:  64.87999725341797\n",
      "Maximum value:  290.25\n",
      " \n",
      "Observation frequency:  89.0H\n",
      "Minimum value:  63.45000076293945\n",
      "Maximum value:  289.7300109863281\n",
      " \n"
     ]
    }
   ],
   "source": [
    "feature_min, feature_max = obtain_feature_min_max(frequencies, train_features, val_features, test_features)\n",
    "\n",
    "for frequency in frequencies:\n",
    "\n",
    "    print(\"Observation frequency: \", frequency)\n",
    "    print(\"Minimum value: \", feature_min[frequency])\n",
    "    print(\"Maximum value: \", feature_max[frequency])\n",
    "    print(\" \")"
   ]
  },
  {
   "cell_type": "code",
   "execution_count": 31,
   "id": "huBM39Q_kXwH",
   "metadata": {
    "id": "huBM39Q_kXwH",
    "tags": []
   },
   "outputs": [],
   "source": [
    "def normalize_input_features(frequencies, input_features, feature_min, feature_max):\n",
    "    \"\"\"\n",
    "    Normalize input features\n",
    "\n",
    "    Parameters\n",
    "    ----------\n",
    "    frequencies : array-like\n",
    "        list of GPM observation frequencies we want to use as the input\n",
    "        features\n",
    "    input_features : array-like\n",
    "        2-D array of input features\n",
    "    feature_min : dict\n",
    "        dictionary containing minimum value for each observing frequency\n",
    "    feature_max : dict\n",
    "        dictionary containing maximum value for each observing frequency\n",
    "\n",
    "    Returns\n",
    "    -------\n",
    "    norm_input_features : array-like\n",
    "        array of input features that have been normalized\n",
    "    \"\"\"\n",
    "\n",
    "    norm_input_features = np.zeros(input_features.shape)\n",
    "\n",
    "    for freq_idx, frequency in enumerate(frequencies):\n",
    "\n",
    "        norm_input_features[:,freq_idx] = (input_features[:,freq_idx] - feature_min[frequency]) / (feature_max[frequency] - feature_min[frequency])\n",
    "\n",
    "    return norm_input_features"
   ]
  },
  {
   "cell_type": "code",
   "execution_count": null,
   "id": "99bc4146-baf4-4b7c-89c8-af445056ec2b",
   "metadata": {
    "id": "a-JzGls8qCAT"
   },
   "outputs": [],
   "source": [
    "## obtain scaled/normalized input features for our training, validation, and testing sets."
   ]
  },
  {
   "cell_type": "code",
   "execution_count": 32,
   "id": "GqeZMwBHqKpy",
   "metadata": {
    "id": "GqeZMwBHqKpy",
    "tags": []
   },
   "outputs": [],
   "source": [
    "norm_train_features = normalize_input_features(frequencies, train_features, feature_min, feature_max)"
   ]
  },
  {
   "cell_type": "code",
   "execution_count": 33,
   "id": "CB-mqJRUqeDd",
   "metadata": {
    "id": "CB-mqJRUqeDd",
    "tags": []
   },
   "outputs": [],
   "source": [
    "norm_val_features = normalize_input_features(frequencies, val_features, feature_min, feature_max)"
   ]
  },
  {
   "cell_type": "code",
   "execution_count": 34,
   "id": "7x65ylqlqhgI",
   "metadata": {
    "id": "7x65ylqlqhgI",
    "tags": []
   },
   "outputs": [],
   "source": [
    "norm_test_features = normalize_input_features(frequencies, test_features, feature_min, feature_max)"
   ]
  },
  {
   "cell_type": "code",
   "execution_count": null,
   "id": "e1497a69-b150-401d-b35f-611fb6e4ba16",
   "metadata": {
    "id": "rNSg40jVrLHN"
   },
   "outputs": [],
   "source": [
    "## Build the Model"
   ]
  },
  {
   "cell_type": "code",
   "execution_count": null,
   "id": "e6858f5e-6e87-4d29-8046-c19438d903fc",
   "metadata": {},
   "outputs": [],
   "source": [
    "# Specify the number of nodes in a hidden layer\n",
    "n_units = 128\n",
    "\n",
    "# Specify the activation function to use\n",
    "activation_func = \"relu\"\n",
    "\n",
    "# Initialize the model\n",
    "model = tf.keras.Sequential()\n",
    "\n",
    "# Add the first hidden layer with the specified number of nodes and activation function\n",
    "# Also specify the number of input nodes, which is equivalent to the number of input features\n",
    "model.add(layers.Dense(n_units, activation=activation_func, input_shape=(len(frequencies),)))\n",
    "\n",
    "# Add a second hidden layer with the specified number of nodes and activation function\n",
    "model.add(layers.Dense(n_units, activation=activation_func))\n",
    "\n",
    "# Add a final layer with one node for the output value that we want to predict\n",
    "# The activation function here must be linear\n",
    "model.add(layers.Dense(1, activation=\"linear\"))\n",
    "\n",
    "# Compile the model\n",
    "# Use the Adam optimizer with a learning rate of 0.01 and a mean squared error loss function\n",
    "model.compile(optimizer=tf.keras.optimizers.Adam(0.01), loss=\"mse\")"
   ]
  },
  {
   "cell_type": "code",
   "execution_count": null,
   "id": "de21301b-d3e2-4b0e-80bc-f434ecd07b68",
   "metadata": {
    "id": "dFARUlFKr1fS"
   },
   "outputs": [],
   "source": [
    "## Training the Model"
   ]
  },
  {
   "cell_type": "code",
   "execution_count": 37,
   "id": "53917f5c",
   "metadata": {
    "colab": {
     "base_uri": "https://localhost:8080/"
    },
    "executionInfo": {
     "elapsed": 83124,
     "status": "ok",
     "timestamp": 1686608045309,
     "user": {
      "displayName": "Naufal Razin",
      "userId": "00945304052336708650"
     },
     "user_tz": 360
    },
    "id": "53917f5c",
    "outputId": "a8ca351a-5faa-48aa-9e99-c1ba99483925",
    "tags": []
   },
   "outputs": [
    {
     "name": "stdout",
     "output_type": "stream",
     "text": [
      "Epoch 1/50\n",
      "46/46 [==============================] - 2s 19ms/step - loss: 2.4970 - val_loss: 1.2100\n",
      "Epoch 2/50\n",
      "46/46 [==============================] - 1s 15ms/step - loss: 0.8376 - val_loss: 1.1211\n",
      "Epoch 3/50\n",
      "46/46 [==============================] - 1s 13ms/step - loss: 0.7279 - val_loss: 1.1127\n",
      "Epoch 4/50\n",
      "46/46 [==============================] - 1s 14ms/step - loss: 0.6550 - val_loss: 1.4325\n",
      "Epoch 5/50\n",
      "46/46 [==============================] - 1s 15ms/step - loss: 0.5931 - val_loss: 0.9308\n",
      "Epoch 6/50\n",
      "46/46 [==============================] - 1s 19ms/step - loss: 0.5623 - val_loss: 0.8852\n",
      "Epoch 7/50\n",
      "46/46 [==============================] - 1s 14ms/step - loss: 0.5844 - val_loss: 0.8454\n",
      "Epoch 8/50\n",
      "46/46 [==============================] - 1s 15ms/step - loss: 0.5441 - val_loss: 1.1225\n",
      "Epoch 9/50\n",
      "46/46 [==============================] - 1s 15ms/step - loss: 0.5558 - val_loss: 1.0133\n",
      "Epoch 10/50\n",
      "46/46 [==============================] - 1s 15ms/step - loss: 0.5555 - val_loss: 1.2812\n",
      "Epoch 11/50\n",
      "46/46 [==============================] - 1s 18ms/step - loss: 0.5730 - val_loss: 1.5652\n",
      "Epoch 12/50\n",
      "46/46 [==============================] - 1s 15ms/step - loss: 0.5259 - val_loss: 0.7896\n",
      "Epoch 13/50\n",
      "46/46 [==============================] - 1s 15ms/step - loss: 0.5920 - val_loss: 1.2808\n",
      "Epoch 14/50\n",
      "46/46 [==============================] - 1s 16ms/step - loss: 0.5302 - val_loss: 1.1935\n",
      "Epoch 15/50\n",
      "46/46 [==============================] - 1s 16ms/step - loss: 0.5001 - val_loss: 1.0937\n",
      "Epoch 16/50\n",
      "46/46 [==============================] - 1s 15ms/step - loss: 0.4730 - val_loss: 1.0555\n",
      "Epoch 17/50\n",
      "46/46 [==============================] - 1s 16ms/step - loss: 0.4817 - val_loss: 0.7614\n",
      "Epoch 18/50\n",
      "46/46 [==============================] - 1s 18ms/step - loss: 0.4697 - val_loss: 0.7069\n",
      "Epoch 19/50\n",
      "46/46 [==============================] - 1s 15ms/step - loss: 0.4666 - val_loss: 0.6779\n",
      "Epoch 20/50\n",
      "46/46 [==============================] - 1s 17ms/step - loss: 0.4863 - val_loss: 0.8675\n",
      "Epoch 21/50\n",
      "46/46 [==============================] - 1s 17ms/step - loss: 0.4342 - val_loss: 0.7181\n",
      "Epoch 22/50\n",
      "46/46 [==============================] - 1s 15ms/step - loss: 0.4432 - val_loss: 0.7318\n",
      "Epoch 23/50\n",
      "46/46 [==============================] - 1s 16ms/step - loss: 0.4256 - val_loss: 1.0225\n",
      "Epoch 24/50\n",
      "46/46 [==============================] - 1s 16ms/step - loss: 0.4448 - val_loss: 0.8618\n",
      "Epoch 25/50\n",
      "46/46 [==============================] - 1s 18ms/step - loss: 0.4814 - val_loss: 0.6876\n",
      "Epoch 26/50\n",
      "46/46 [==============================] - 1s 18ms/step - loss: 0.4375 - val_loss: 1.1207\n",
      "Epoch 27/50\n",
      "46/46 [==============================] - 1s 18ms/step - loss: 0.4552 - val_loss: 0.6938\n",
      "Epoch 28/50\n",
      "46/46 [==============================] - 1s 13ms/step - loss: 0.4920 - val_loss: 0.7243\n",
      "Epoch 29/50\n",
      "46/46 [==============================] - 1s 14ms/step - loss: 0.4456 - val_loss: 0.8048\n",
      "Epoch 30/50\n",
      "46/46 [==============================] - 1s 14ms/step - loss: 0.4310 - val_loss: 0.6581\n",
      "Epoch 31/50\n",
      "46/46 [==============================] - 1s 15ms/step - loss: 0.4177 - val_loss: 0.6816\n",
      "Epoch 32/50\n",
      "46/46 [==============================] - 1s 16ms/step - loss: 0.4019 - val_loss: 0.9300\n",
      "Epoch 33/50\n",
      "46/46 [==============================] - 1s 15ms/step - loss: 0.3938 - val_loss: 0.6227\n",
      "Epoch 34/50\n",
      "46/46 [==============================] - 1s 15ms/step - loss: 0.3973 - val_loss: 0.9415\n",
      "Epoch 35/50\n",
      "46/46 [==============================] - 1s 16ms/step - loss: 0.4414 - val_loss: 0.6743\n",
      "Epoch 36/50\n",
      "46/46 [==============================] - 1s 16ms/step - loss: 0.3799 - val_loss: 0.8476\n",
      "Epoch 37/50\n",
      "46/46 [==============================] - 1s 15ms/step - loss: 0.4071 - val_loss: 0.7307\n",
      "Epoch 38/50\n",
      "46/46 [==============================] - 1s 13ms/step - loss: 0.3826 - val_loss: 0.7334\n",
      "Epoch 39/50\n",
      "46/46 [==============================] - 1s 14ms/step - loss: 0.4262 - val_loss: 0.6222\n",
      "Epoch 40/50\n",
      "46/46 [==============================] - 1s 15ms/step - loss: 0.4122 - val_loss: 0.8665\n",
      "Epoch 41/50\n",
      "46/46 [==============================] - 1s 15ms/step - loss: 0.3834 - val_loss: 0.9070\n",
      "Epoch 42/50\n",
      "46/46 [==============================] - 1s 14ms/step - loss: 0.4158 - val_loss: 0.9959\n",
      "Epoch 43/50\n",
      "46/46 [==============================] - 1s 15ms/step - loss: 0.4030 - val_loss: 0.6977\n",
      "Epoch 44/50\n",
      "46/46 [==============================] - 1s 13ms/step - loss: 0.4132 - val_loss: 0.8084\n",
      "Epoch 45/50\n",
      "46/46 [==============================] - 1s 14ms/step - loss: 0.3839 - val_loss: 1.3050\n",
      "Epoch 46/50\n",
      "46/46 [==============================] - 1s 13ms/step - loss: 0.4032 - val_loss: 1.1511\n",
      "Epoch 47/50\n",
      "46/46 [==============================] - 1s 15ms/step - loss: 0.3730 - val_loss: 0.8874\n",
      "Epoch 48/50\n",
      "46/46 [==============================] - 1s 13ms/step - loss: 0.3811 - val_loss: 0.7139\n",
      "Epoch 49/50\n",
      "46/46 [==============================] - 1s 14ms/step - loss: 0.3793 - val_loss: 0.6568\n",
      "Epoch 50/50\n",
      "46/46 [==============================] - 1s 14ms/step - loss: 0.3796 - val_loss: 0.7721\n"
     ]
    }
   ],
   "source": [
    "# Specify number of times (epochs) to train the model\n",
    "# Let's go with 50\n",
    "n_epochs = 50\n",
    "\n",
    "# Specify the size of the samples the model should train on before\n",
    "# updating the weights and biases in one epoch\n",
    "# go with 5000\n",
    "batch_size = 5000\n",
    "\n",
    "# Train the model as an object called \"trained_model\"\n",
    "# Validate the model performance using the validation set\n",
    "trained_model = model.fit(norm_train_features, train_labels,\n",
    "                          validation_data=(norm_val_features,val_labels),\n",
    "                          epochs=n_epochs, batch_size=batch_size)"
   ]
  },
  {
   "cell_type": "code",
   "execution_count": null,
   "id": "1f198718-9a33-4198-af45-6079d3575f29",
   "metadata": {
    "id": "42d7cc2f"
   },
   "outputs": [],
   "source": [
    "##Analyzing Model Convergence"
   ]
  },
  {
   "cell_type": "code",
   "execution_count": 42,
   "id": "TgvLFU_paRBx",
   "metadata": {
    "colab": {
     "base_uri": "https://localhost:8080/"
    },
    "executionInfo": {
     "elapsed": 11,
     "status": "ok",
     "timestamp": 1686608045310,
     "user": {
      "displayName": "Naufal Razin",
      "userId": "00945304052336708650"
     },
     "user_tz": 360
    },
    "id": "TgvLFU_paRBx",
    "outputId": "f3c97f00-4c8a-47a8-cf82-acd9328266ad",
    "scrolled": true,
    "tags": []
   },
   "outputs": [
    {
     "data": {
      "text/plain": [
       "dict_keys(['loss', 'val_loss'])"
      ]
     },
     "execution_count": 42,
     "metadata": {},
     "output_type": "execute_result"
    }
   ],
   "source": [
    "# Print out the name of the data\n",
    "# stored in trained_model\n",
    "trained_model.history.keys()"
   ]
  },
  {
   "cell_type": "code",
   "execution_count": 43,
   "id": "SZQHliTMcO9d",
   "metadata": {
    "colab": {
     "base_uri": "https://localhost:8080/",
     "height": 466
    },
    "executionInfo": {
     "elapsed": 565,
     "status": "ok",
     "timestamp": 1686608045868,
     "user": {
      "displayName": "Naufal Razin",
      "userId": "00945304052336708650"
     },
     "user_tz": 360
    },
    "id": "SZQHliTMcO9d",
    "outputId": "b3f7c312-4b44-4cfd-b505-44663cd74bf7",
    "tags": []
   },
   "outputs": [
    {
     "data": {
      "text/plain": [
       "Text(0, 0.5, 'MSE')"
      ]
     },
     "execution_count": 43,
     "metadata": {},
     "output_type": "execute_result"
    },
    {
     "data": {
      "image/png": "[encoded data removed]",
      "text/plain": [
       "<Figure size 640x480 with 1 Axes>"
      ]
     },
     "metadata": {},
     "output_type": "display_data"
    }
   ],
   "source": [
    "# Plot the training and validation loss values\n",
    "plt.plot(trained_model.history['loss'], label='Training')\n",
    "plt.plot(trained_model.history['val_loss'], label='Validation')\n",
    "plt.legend()\n",
    "plt.xlabel('Epoch')\n",
    "plt.ylabel('MSE')"
   ]
  },
  {
   "cell_type": "code",
   "execution_count": null,
   "id": "25c072fd-0d1b-4542-b8f4-24fc01746baa",
   "metadata": {
    "id": "klgrnhOZv4I9"
   },
   "outputs": [],
   "source": [
    "##Analyzing Model Prediction"
   ]
  },
  {
   "cell_type": "code",
   "execution_count": 44,
   "id": "12ca51f6",
   "metadata": {
    "colab": {
     "base_uri": "https://localhost:8080/"
    },
    "executionInfo": {
     "elapsed": 20315,
     "status": "ok",
     "timestamp": 1686608066182,
     "user": {
      "displayName": "Naufal Razin",
      "userId": "00945304052336708650"
     },
     "user_tz": 360
    },
    "id": "12ca51f6",
    "outputId": "99032db2-b691-438c-b159-8ad40e7943c0",
    "tags": []
   },
   "outputs": [
    {
     "name": "stdout",
     "output_type": "stream",
     "text": [
      "7125/7125 [==============================] - 9s 1ms/step\n",
      "3016/3016 [==============================] - 4s 1ms/step\n"
     ]
    }
   ],
   "source": [
    "# Predict the surface precipitation rate from the training data\n",
    "train_predict = model.predict(norm_train_features)\n",
    "\n",
    "# Predict the surface precipitation rate from the validation data\n",
    "val_predict = model.predict(norm_val_features)"
   ]
  },
  {
   "cell_type": "code",
   "execution_count": 45,
   "id": "0fc1a4cc",
   "metadata": {
    "colab": {
     "base_uri": "https://localhost:8080/",
     "height": 504
    },
    "executionInfo": {
     "elapsed": 1098,
     "status": "ok",
     "timestamp": 1686608067267,
     "user": {
      "displayName": "Naufal Razin",
      "userId": "00945304052336708650"
     },
     "user_tz": 360
    },
    "id": "0fc1a4cc",
    "outputId": "1a247d63-0857-4037-ca52-23defce47397",
    "tags": []
   },
   "outputs": [
    {
     "data": {
      "text/plain": [
       "Text(0.5, 1.0, 'Validation Set')"
      ]
     },
     "execution_count": 45,
     "metadata": {},
     "output_type": "execute_result"
    },
    {
     "data": {
      "image/png": "[encoded data removed]",
      "text/plain": [
       "<Figure size 1200x600 with 2 Axes>"
      ]
     },
     "metadata": {},
     "output_type": "display_data"
    }
   ],
   "source": [
    "# Plot a scatter plot for the training and validation predictions\n",
    "plt.figure(figsize=[12,6])\n",
    "\n",
    "# For the training set\n",
    "plt.subplot(1,2,1)\n",
    "plt.scatter(train_predict,train_labels, marker=\"+\", color=\"k\")\n",
    "\n",
    "# Plot a one-to-one line\n",
    "plt.plot([0,100],[0,100], color=\"red\", lw=2)\n",
    "\n",
    "plt.xlabel(\"Neural Network\\n Surface Precipitation Rate (mm/hr)\")\n",
    "plt.ylabel(\"GPROF Surface Precipitation Rate (mm/hr)\")\n",
    "\n",
    "plt.title(\"Training Set\")\n",
    "\n",
    "# For the validation set\n",
    "plt.subplot(1, 2, 2)\n",
    "plt.scatter(val_predict,val_labels, marker=\"+\", color=\"k\")\n",
    "\n",
    "# Plot a one-to-one line\n",
    "plt.plot([0, 100],[0, 100], color=\"red\", lw=2)\n",
    "\n",
    "plt.xlabel(\"Neural Network\\n Surface Precipitation Rate (mm/hr)\")\n",
    "\n",
    "plt.title(\"Validation Set\")"
   ]
  },
  {
   "cell_type": "code",
   "execution_count": null,
   "id": "71068e5d-16db-48bc-9506-25205a647890",
   "metadata": {
    "id": "e4b0114a"
   },
   "outputs": [],
   "source": [
    "## Applying the Artificial Neural Network Model to a TC PRIMED Overpass"
   ]
  },
  {
   "cell_type": "code",
   "execution_count": 46,
   "id": "5aa8fc94",
   "metadata": {
    "colab": {
     "base_uri": "https://localhost:8080/"
    },
    "executionInfo": {
     "elapsed": 5595,
     "status": "ok",
     "timestamp": 1686608090260,
     "user": {
      "displayName": "Naufal Razin",
      "userId": "00945304052336708650"
     },
     "user_tz": 360
    },
    "id": "5aa8fc94",
    "outputId": "66c8eef1-d13f-4630-b108-835013950254",
    "tags": []
   },
   "outputs": [
    {
     "name": "stdout",
     "output_type": "stream",
     "text": [
      "995/995 [==============================] - 1s 1ms/step\n"
     ]
    }
   ],
   "source": [
    "# Retrieve a particular netCDF object from the test sample\n",
    "DS = TEST_DS[TEST_FILE_NAMES[2]]\n",
    "\n",
    "# Load the latitude and longitude values of the observation pixels\n",
    "latitude = DS[\"passive_microwave/S1/latitude\"][:]\n",
    "longitude = DS[\"passive_microwave/S1/longitude\"][:]\n",
    "\n",
    "\n",
    "# convert the default longitude values in TC PRIMED with a longitude range of [0, 360) to the longitude range of [-180,180)\n",
    "longitude[longitude >= 180] -= 360\n",
    "\n",
    "# Get the shape of the input\n",
    "input_shape = latitude.shape\n",
    "\n",
    "# Using the latitude and longitude values of the pixels, find the\n",
    "# pixels that are over the land. Pixels that are over the land will\n",
    "# have a value of \"True\"\n",
    "land_pixels = globe.is_land(latitude, longitude)\n",
    "\n",
    "# Find the indices of the pixels that are over land\n",
    "select_idx = np.argwhere(land_pixels == True)\n",
    "\n",
    "# Initialize array for input features\n",
    "test_features = []\n",
    "\n",
    "# Loop through each observation frequency\n",
    "for frequency in frequencies:\n",
    "\n",
    "    # Load the brightness temperature field\n",
    "    # Replace the masked value with -999.0\n",
    "    TB = DS[\"passive_microwave/S1/TB_\" + frequency][:].filled(-999.0)\n",
    "\n",
    "    # Append indices of brightness temperature values that are\n",
    "    # _FillValue to the indices we have already selected above\n",
    "    select_idx = np.append(select_idx, np.argwhere(TB == -999.0), axis=0)\n",
    "\n",
    "    # Get only unique indices\n",
    "    select_idx = np.unique(select_idx, axis=0)\n",
    "\n",
    "    # Put the input features into an array\n",
    "    if frequency == frequencies[0]:\n",
    "\n",
    "        test_features = TB.flatten()\n",
    "\n",
    "    else:\n",
    "\n",
    "        test_features = np.vstack((test_features, TB.flatten()))\n",
    "\n",
    "# Transpose the input feature array for model ingest\n",
    "test_features = np.transpose(test_features)\n",
    "\n",
    "# Normalize test features\n",
    "norm_test_features = normalize_input_features(frequencies, test_features, feature_min, feature_max)\n",
    "\n",
    "# Load the x, y, and GPROF surface precipitation rates for plotting and\n",
    "# to compare with the model predictions\n",
    "# Use NaN value to replace masked value in GPROF surface precipitation\n",
    "# rate variable, for plotting\n",
    "x = DS[\"passive_microwave/S1/x\"][:]\n",
    "y = DS[\"passive_microwave/S1/y\"][:]\n",
    "GPROF_surfaceprecip = DS[\"GPROF/S1/surfacePrecipitation\"][:].filled(np.nan)\n",
    "\n",
    "# Make a prediction with the model\n",
    "model_surfaceprecip = model.predict(norm_test_features)\n",
    "\n",
    "# Reformat the output to match the input\n",
    "model_surfaceprecip = model_surfaceprecip.reshape(input_shape)\n",
    "\n",
    "# Loop through each index with land pixels or masked value in any of\n",
    "# the input features\n",
    "# Replace the model prediction with NaN for plotting\n",
    "for idx in select_idx:\n",
    "\n",
    "    model_surfaceprecip[idx[0], idx[1]] = np.nan"
   ]
  },
  {
   "cell_type": "code",
   "execution_count": 53,
   "id": "53a1de2c",
   "metadata": {
    "colab": {
     "base_uri": "https://localhost:8080/",
     "height": 621
    },
    "executionInfo": {
     "elapsed": 1171,
     "status": "ok",
     "timestamp": 1686608094703,
     "user": {
      "displayName": "Naufal Razin",
      "userId": "00945304052336708650"
     },
     "user_tz": 360
    },
    "id": "53a1de2c",
    "outputId": "66c2be00-80a4-481a-8e55-5d317804fbe3",
    "tags": []
   },
   "outputs": [
    {
     "name": "stderr",
     "output_type": "stream",
     "text": [
      "/tmp/ipykernel_16654/4059736624.py:31: UserWarning: The input coordinates to pcolormesh are interpreted as cell centers, but are not monotonically increasing or decreasing. This may lead to incorrectly calculated cell edges, in which case, please supply explicit cell edges to pcolormesh.\n",
      "  plt.pcolormesh(x, y, model_surfaceprecip, vmin=0, vmax=50, cmap=precip_colormap)\n",
      "/tmp/ipykernel_16654/4059736624.py:41: UserWarning: The input coordinates to pcolormesh are interpreted as cell centers, but are not monotonically increasing or decreasing. This may lead to incorrectly calculated cell edges, in which case, please supply explicit cell edges to pcolormesh.\n",
      "  plt.pcolormesh(x, y, GPROF_surfaceprecip, vmin=0, vmax=50, cmap=precip_colormap)\n"
     ]
    },
    {
     "data": {
      "text/plain": [
       "(-500.0, 500.0)"
      ]
     },
     "execution_count": 53,
     "metadata": {},
     "output_type": "execute_result"
    },
    {
     "data": {
      "image/png": "[encoded data removed]",
      "text/plain": [
       "<Figure size 1200x800 with 4 Axes>"
      ]
     },
     "metadata": {},
     "output_type": "display_data"
    }
   ],
   "source": [
    "#colormap data\n",
    "import matplotlib.colors as cls\n",
    "\n",
    "precip_colors = [\n",
    "   \"#bde9bf\",  # 0.01 - 0.02 inches 1\n",
    "   \"#adddb0\",  # 0.02 - 0.03 inches 2\n",
    "   \"#9ed0a0\",  # 0.03 - 0.04 inches 3\n",
    "   \"#8ec491\",  # 0.04 - 0.05 inches 4\n",
    "   \"#7fb882\",  # 0.05 - 0.06 inches 5\n",
    "   \"#70ac74\",  # 0.06 - 0.07 inches 6\n",
    "   \"#60a065\",  # 0.07 - 0.08 inches 7\n",
    "   \"#519457\",  # 0.08 - 0.09 inches 8\n",
    "   \"#418849\",  # 0.09 - 0.10 inches 9\n",
    "   \"#307c3c\",  # 0.10 - 0.12 inches 10\n",
    "   \"#1c712e\",  # 0.12 - 0.14 inches 11\n",
    "   \"#f7f370\",  # 0.14 - 0.16 inches 12\n",
    "   \"#fbdf65\",  # 0.16 - 0.18 inches 13\n",
    "   \"#fecb5a\",  # 0.18 - 0.2 inches 14\n",
    "   \"#ffb650\",  # 0.2 - 0.3 inches 15\n",
    "   \"#ffa146\",  # 0.3 - 0.4 inches 16\n",
    "   \"#ff8b3c\",   # 0.4 - 0.5 inches 17\n",
    "   \"#ff8b3c\"   # 0.5 - 0.6 inches 18\n",
    "]\n",
    "precip_colormap = cls.ListedColormap(precip_colors)\n",
    "\n",
    "# Set figure size\n",
    "plt.figure(figsize=[12,8])\n",
    "\n",
    "# For the model surface precipitation prediction\n",
    "plt.subplot(1,2,1)\n",
    "plt.pcolormesh(x, y, model_surfaceprecip, vmin=0, vmax=50, cmap=precip_colormap)\n",
    "plt.colorbar(orientation=\"horizontal\",pad=0.13, label=\"ANN Surface Precipitation Rates (mm/hr)\")\n",
    "\n",
    "plt.xlim(-500,500)\n",
    "plt.xlabel(\"Zonal Distance from Tropical Cyclone Center (km)\")\n",
    "plt.ylim(-500,500)\n",
    "plt.ylabel(\"Meridional Distance from Tropical Cyclone Center (km)\")\n",
    "\n",
    "# For the GPROF surface precipitation field\n",
    "plt.subplot(1,2,2)\n",
    "plt.pcolormesh(x, y, GPROF_surfaceprecip, vmin=0, vmax=50, cmap=precip_colormap)\n",
    "plt.colorbar(orientation=\"horizontal\",pad=0.13, label=\"GPROF Surface Precipitation Rates (mm/hr)\")\n",
    "\n",
    "plt.xlim(-500,500)\n",
    "plt.xlabel(\"Zonal Distance from Tropical Cyclone Center (km)\")\n",
    "plt.ylim(-500,500)"
   ]
  },
  {
   "cell_type": "code",
   "execution_count": null,
   "id": "813ea540-9131-4ad2-bc0e-322fc7fb2b0e",
   "metadata": {
    "id": "K96FAtHubeLI"
   },
   "outputs": [],
   "source": [
    "## Close the File"
   ]
  },
  {
   "cell_type": "code",
   "execution_count": 25,
   "id": "2qnk0eVBbt4F",
   "metadata": {
    "id": "2qnk0eVBbt4F"
   },
   "outputs": [],
   "source": [
    "for train_file_name in TRAIN_FILE_NAMES:\n",
    "    TRAIN_DS[train_file_name].close()\n",
    "\n",
    "for val_file_name in VAL_FILE_NAMES:\n",
    "    VAL_DS[val_file_name].close()\n",
    "\n",
    "for test_file_name in TEST_FILE_NAMES:\n",
    "    TEST_DS[test_file_name].close()"
   ]
  }
 ],
 "metadata": {
  "colab": {
   "provenance": []
  },
  "kernelspec": {
   "display_name": "Python 3 (ipykernel)",
   "language": "python",
   "name": "python3"
  },
  "language_info": {
   "codemirror_mode": {
    "name": "ipython",
    "version": 3
   },
   "file_extension": ".py",
   "mimetype": "text/x-python",
   "name": "python",
   "nbconvert_exporter": "python",
   "pygments_lexer": "ipython3",
   "version": "3.12.3"
  },
  "toc": {
   "base_numbering": 1,
   "nav_menu": {},
   "number_sections": true,
   "sideBar": true,
   "skip_h1_title": false,
   "title_cell": "Table of Contents",
   "title_sidebar": "Contents",
   "toc_cell": false,
   "toc_position": {},
   "toc_section_display": true,
   "toc_window_display": true
  }
 },
 "nbformat": 4,
 "nbformat_minor": 5
}
